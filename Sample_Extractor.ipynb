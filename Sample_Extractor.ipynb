{
 "cells": [
  {
   "cell_type": "code",
   "execution_count": 1,
   "id": "5bb9570b",
   "metadata": {},
   "outputs": [],
   "source": [
    "# https://www.kaggle.com/datasets/thoughtvector/customer-support-on-twitter?resource=download"
   ]
  },
  {
   "cell_type": "code",
   "execution_count": 2,
   "id": "be546aea",
   "metadata": {},
   "outputs": [
    {
     "name": "stdout",
     "output_type": "stream",
     "text": [
      "mkdir: tweetsum/: File exists\n",
      "valid\n",
      "test\n",
      "train\n"
     ]
    }
   ],
   "source": [
    "import pandas as pd \n",
    "from collections import defaultdict\n",
    "import json\n",
    "\n",
    "def extract_data_from_json(json_format):\n",
    "    json_file = json.loads(json_format)\n",
    "    dialog, summary = json_file['dialog'], json_file['summaries']\n",
    "    conversation_id = dialog['dialog_id']\n",
    "    \n",
    "    full_dialog = \"\"\n",
    "    for turn in dialog['turns']:\n",
    "        is_agent, sentences = turn['is_agent'], turn['sentences']\n",
    "        speech = \"Agent: \" if is_agent else \"Customer: \" + ' '.join(sentences) + '\\n'\n",
    "        full_dialog += speech\n",
    "    \n",
    "    extractive_summary = defaultdict(lambda: \"\")\n",
    "    for i, item in enumerate(summary['extractive_summaries']):\n",
    "        item = item[0]\n",
    "        is_agent, sentences = item['is_agent'], item['sentences']\n",
    "        speech = \"Agent: \" if is_agent else \"Customer: \" + ' '.join(sentences) + '\\n'\n",
    "        extractive_summary[i] = speech\n",
    "    \n",
    "    abstractive_summary = defaultdict(lambda: \"\")\n",
    "    for i, sentences in enumerate(summary['abstractive_summaries']):\n",
    "        abstractive_summary[i] = ' '.join(sentences)\n",
    "    \n",
    "    return full_dialog, extractive_summary, abstractive_summary\n",
    "\n",
    "from tweet_sum_processor import TweetSumProcessor\n",
    "import os \n",
    "TWCS_FILE_PATH = 'twcs/twcs.csv'\n",
    "\n",
    "!mkdir tweetsum/\n",
    "for split in os.listdir('tweet_sum_data_files/'):\n",
    "    TWEET_SUMM_FILE_PATH = os.path.join('tweet_sum_data_files/', split)\n",
    "    processor = TweetSumProcessor(TWCS_FILE_PATH)\n",
    "    out = defaultdict(lambda: [])\n",
    "    with open(TWEET_SUMM_FILE_PATH) as f:\n",
    "        dialog_with_summaries = processor.get_dialog_with_summaries(f.readlines())\n",
    "        for dialog_with_summary in dialog_with_summaries:\n",
    "            try:\n",
    "                json_format = dialog_with_summary.get_json()\n",
    "            except Exception as e:\n",
    "                print (e)\n",
    "                print (dialog_with_summary)\n",
    "\n",
    "            full_dialog, extractive_summary, abstractive_summary = extract_data_from_json(json_format)\n",
    "            out['full_dialog'].append(full_dialog)\n",
    "            for i in range(5):\n",
    "                out[f'extractive_summary_{i}'].append(extractive_summary[i])\n",
    "            for i in range(5):\n",
    "                out[f'abstractive_summary_{i}'].append(abstractive_summary[i])\n",
    "\n",
    "        out = pd.DataFrame.from_dict(out)\n",
    "        data_split = split.split('_')[1]\n",
    "        print (data_split)\n",
    "        out.to_excel(f'tweetsum/{data_split}.xlsx', index=False)"
   ]
  }
 ],
 "metadata": {
  "kernelspec": {
   "display_name": "Python 3 (ipykernel)",
   "language": "python",
   "name": "python3"
  },
  "language_info": {
   "codemirror_mode": {
    "name": "ipython",
    "version": 3
   },
   "file_extension": ".py",
   "mimetype": "text/x-python",
   "name": "python",
   "nbconvert_exporter": "python",
   "pygments_lexer": "ipython3",
   "version": "3.8.15"
  }
 },
 "nbformat": 4,
 "nbformat_minor": 5
}
